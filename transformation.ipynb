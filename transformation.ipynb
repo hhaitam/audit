{
  "nbformat": 4,
  "nbformat_minor": 0,
  "metadata": {
    "colab": {
      "provenance": []
    },
    "kernelspec": {
      "name": "python3",
      "display_name": "Python 3"
    },
    "language_info": {
      "name": "python"
    }
  },
  "cells": [
    {
      "cell_type": "code",
      "execution_count": 1,
      "metadata": {
        "id": "J2u5KywcW7W_"
      },
      "outputs": [],
      "source": [
        "import pandas as pd"
      ]
    },
    {
      "cell_type": "code",
      "source": [
        "df = pd.read_csv('micromania_donnees_fictives.csv', sep=';')\n",
        "df.to_excel('micromania_donnees_fictives.xlsx', index=False)"
      ],
      "metadata": {
        "id": "e6b_UyKXXIhm"
      },
      "execution_count": 2,
      "outputs": []
    },
    {
      "cell_type": "code",
      "source": [],
      "metadata": {
        "id": "OuJZbgxgrCHS"
      },
      "execution_count": null,
      "outputs": []
    }
  ]
}